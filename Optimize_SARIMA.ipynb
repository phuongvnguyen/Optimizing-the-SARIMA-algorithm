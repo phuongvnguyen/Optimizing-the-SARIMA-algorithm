{
 "cells": [
  {
   "cell_type": "markdown",
   "metadata": {},
   "source": [
    "$$\\large \\color{green}{\\textbf{Optimizing the SARIMA algorithm}}$$ \n",
    "\n",
    "$$\\large \\color{blue}{\\textbf{Phuong Van Nguyen}}$$\n",
    "$$\\small \\color{red}{\\textbf{ phuong.nguyen@summer.barcelonagse.eu}}$$\n",
    "\n",
    "\n",
    "This Machine Learning program was written by Phuong V. Nguyen, based on the $\\textbf{Anacoda 1.9.7}$ and $\\textbf{Python 3.7}$.\n",
    "\n",
    "\n",
    "$$\\underline{\\textbf{Main Contents}}$$\n",
    "\n",
    "$\\text{1. Main Job:}$ The SARIMA algorithm is one of the most common forecasting tools. An optimal SARIMA would make a better forecast for a number of interesting time-series variables.  Thus,  the main purpose of this project is to introduce how to optimize SARIMA algorithm. Three criteria, such as Akaike Information Criterion (AIC), Bayesian Information Criterion (BIC), and Log-Likelihood, are used to choose the optimal SARIMA model.\n",
    "\n",
    "$\\text{2. Dataset:}$ \n",
    "\n",
    "One can download the dataset used to replicate my project at my Repositories on the Github site below\n",
    "\n",
    "https://github.com/phuongvnguyen/Optimizing-the-SARIMA-algorithm\n"
   ]
  },
  {
   "cell_type": "markdown",
   "metadata": {},
   "source": [
    "# Preparing Problem\n",
    "\n",
    "##  Loading Libraries\n",
    "\n"
   ]
  },
  {
   "cell_type": "code",
   "execution_count": 2,
   "metadata": {},
   "outputs": [],
   "source": [
    "import warnings\n",
    "import itertools\n",
    "import numpy as np\n",
    "import matplotlib.pyplot as plt\n",
    "import seaborn as sns\n",
    "from statsmodels.tsa.arima_model import ARIMA\n",
    "#import pmdarima as pm\n",
    "warnings.filterwarnings(\"ignore\")\n",
    "plt.style.use('fivethirtyeight')\n",
    "import pandas as pd\n",
    "import statsmodels.api as sm\n",
    "import matplotlib\n",
    "matplotlib.rcParams['axes.labelsize'] = 14\n",
    "matplotlib.rcParams['xtick.labelsize'] = 12\n",
    "matplotlib.rcParams['ytick.labelsize'] = 12\n",
    "matplotlib.rcParams['text.color'] = 'k'"
   ]
  },
  {
   "cell_type": "markdown",
   "metadata": {},
   "source": [
    "## Defining some varibales for printing the result"
   ]
  },
  {
   "cell_type": "code",
   "execution_count": 3,
   "metadata": {},
   "outputs": [],
   "source": [
    "Purple= '\\033[95m'\n",
    "Cyan= '\\033[96m'\n",
    "Darkcyan= '\\033[36m'\n",
    "Blue = '\\033[94m'\n",
    "Green = '\\033[92m'\n",
    "Yellow = '\\033[93m'\n",
    "Red = '\\033[91m'\n",
    "Bold = \"\\033[1m\"\n",
    "Reset = \"\\033[0;0m\"\n",
    "Underline= '\\033[4m'\n",
    "End = '\\033[0m'"
   ]
  },
  {
   "cell_type": "markdown",
   "metadata": {},
   "source": [
    "##  Loading Dataset"
   ]
  },
  {
   "cell_type": "code",
   "execution_count": 24,
   "metadata": {},
   "outputs": [
    {
     "data": {
      "text/html": [
       "<div>\n",
       "<style scoped>\n",
       "    .dataframe tbody tr th:only-of-type {\n",
       "        vertical-align: middle;\n",
       "    }\n",
       "\n",
       "    .dataframe tbody tr th {\n",
       "        vertical-align: top;\n",
       "    }\n",
       "\n",
       "    .dataframe thead th {\n",
       "        text-align: right;\n",
       "    }\n",
       "</style>\n",
       "<table border=\"1\" class=\"dataframe\">\n",
       "  <thead>\n",
       "    <tr style=\"text-align: right;\">\n",
       "      <th></th>\n",
       "      <th>DATE</th>\n",
       "      <th>CLOSE</th>\n",
       "      <th>TICKER</th>\n",
       "      <th>OPEN</th>\n",
       "      <th>HIGH</th>\n",
       "      <th>LOW</th>\n",
       "      <th>VOLUME</th>\n",
       "    </tr>\n",
       "  </thead>\n",
       "  <tbody>\n",
       "    <tr>\n",
       "      <td>0</td>\n",
       "      <td>2007-09-19</td>\n",
       "      <td>125.0</td>\n",
       "      <td>VIC</td>\n",
       "      <td>125.0</td>\n",
       "      <td>125.0</td>\n",
       "      <td>125.0</td>\n",
       "      <td>307840</td>\n",
       "    </tr>\n",
       "    <tr>\n",
       "      <td>1</td>\n",
       "      <td>2007-09-20</td>\n",
       "      <td>131.0</td>\n",
       "      <td>VIC</td>\n",
       "      <td>131.0</td>\n",
       "      <td>131.0</td>\n",
       "      <td>130.0</td>\n",
       "      <td>794790</td>\n",
       "    </tr>\n",
       "    <tr>\n",
       "      <td>2</td>\n",
       "      <td>2007-09-21</td>\n",
       "      <td>137.0</td>\n",
       "      <td>VIC</td>\n",
       "      <td>137.0</td>\n",
       "      <td>137.0</td>\n",
       "      <td>135.0</td>\n",
       "      <td>1224660</td>\n",
       "    </tr>\n",
       "    <tr>\n",
       "      <td>3</td>\n",
       "      <td>2007-09-24</td>\n",
       "      <td>143.0</td>\n",
       "      <td>VIC</td>\n",
       "      <td>143.0</td>\n",
       "      <td>143.0</td>\n",
       "      <td>143.0</td>\n",
       "      <td>551130</td>\n",
       "    </tr>\n",
       "    <tr>\n",
       "      <td>4</td>\n",
       "      <td>2007-09-25</td>\n",
       "      <td>150.0</td>\n",
       "      <td>VIC</td>\n",
       "      <td>150.0</td>\n",
       "      <td>150.0</td>\n",
       "      <td>148.0</td>\n",
       "      <td>962110</td>\n",
       "    </tr>\n",
       "  </tbody>\n",
       "</table>\n",
       "</div>"
      ],
      "text/plain": [
       "        DATE  CLOSE TICKER   OPEN   HIGH    LOW   VOLUME\n",
       "0 2007-09-19  125.0    VIC  125.0  125.0  125.0   307840\n",
       "1 2007-09-20  131.0    VIC  131.0  131.0  130.0   794790\n",
       "2 2007-09-21  137.0    VIC  137.0  137.0  135.0  1224660\n",
       "3 2007-09-24  143.0    VIC  143.0  143.0  143.0   551130\n",
       "4 2007-09-25  150.0    VIC  150.0  150.0  148.0   962110"
      ]
     },
     "execution_count": 24,
     "metadata": {},
     "output_type": "execute_result"
    }
   ],
   "source": [
    "data = pd.read_excel(\"data.xlsx\")\n",
    "data.head(5)"
   ]
  },
  {
   "cell_type": "code",
   "execution_count": 25,
   "metadata": {},
   "outputs": [
    {
     "data": {
      "text/html": [
       "<div>\n",
       "<style scoped>\n",
       "    .dataframe tbody tr th:only-of-type {\n",
       "        vertical-align: middle;\n",
       "    }\n",
       "\n",
       "    .dataframe tbody tr th {\n",
       "        vertical-align: top;\n",
       "    }\n",
       "\n",
       "    .dataframe thead th {\n",
       "        text-align: right;\n",
       "    }\n",
       "</style>\n",
       "<table border=\"1\" class=\"dataframe\">\n",
       "  <thead>\n",
       "    <tr style=\"text-align: right;\">\n",
       "      <th></th>\n",
       "      <th>DATE</th>\n",
       "      <th>CLOSE</th>\n",
       "    </tr>\n",
       "  </thead>\n",
       "  <tbody>\n",
       "    <tr>\n",
       "      <td>0</td>\n",
       "      <td>2007-09-19</td>\n",
       "      <td>125.0</td>\n",
       "    </tr>\n",
       "    <tr>\n",
       "      <td>1</td>\n",
       "      <td>2007-09-20</td>\n",
       "      <td>131.0</td>\n",
       "    </tr>\n",
       "    <tr>\n",
       "      <td>2</td>\n",
       "      <td>2007-09-21</td>\n",
       "      <td>137.0</td>\n",
       "    </tr>\n",
       "    <tr>\n",
       "      <td>3</td>\n",
       "      <td>2007-09-24</td>\n",
       "      <td>143.0</td>\n",
       "    </tr>\n",
       "    <tr>\n",
       "      <td>4</td>\n",
       "      <td>2007-09-25</td>\n",
       "      <td>150.0</td>\n",
       "    </tr>\n",
       "  </tbody>\n",
       "</table>\n",
       "</div>"
      ],
      "text/plain": [
       "        DATE  CLOSE\n",
       "0 2007-09-19  125.0\n",
       "1 2007-09-20  131.0\n",
       "2 2007-09-21  137.0\n",
       "3 2007-09-24  143.0\n",
       "4 2007-09-25  150.0"
      ]
     },
     "execution_count": 25,
     "metadata": {},
     "output_type": "execute_result"
    }
   ],
   "source": [
    "closePrice = data[['DATE','CLOSE']]\n",
    "closePrice.head(5)"
   ]
  },
  {
   "cell_type": "code",
   "execution_count": 26,
   "metadata": {},
   "outputs": [
    {
     "data": {
      "text/html": [
       "<div>\n",
       "<style scoped>\n",
       "    .dataframe tbody tr th:only-of-type {\n",
       "        vertical-align: middle;\n",
       "    }\n",
       "\n",
       "    .dataframe tbody tr th {\n",
       "        vertical-align: top;\n",
       "    }\n",
       "\n",
       "    .dataframe thead th {\n",
       "        text-align: right;\n",
       "    }\n",
       "</style>\n",
       "<table border=\"1\" class=\"dataframe\">\n",
       "  <thead>\n",
       "    <tr style=\"text-align: right;\">\n",
       "      <th></th>\n",
       "      <th>CLOSE</th>\n",
       "    </tr>\n",
       "    <tr>\n",
       "      <th>DATE</th>\n",
       "      <th></th>\n",
       "    </tr>\n",
       "  </thead>\n",
       "  <tbody>\n",
       "    <tr>\n",
       "      <td>2007-09-19</td>\n",
       "      <td>125.0</td>\n",
       "    </tr>\n",
       "    <tr>\n",
       "      <td>2007-09-20</td>\n",
       "      <td>131.0</td>\n",
       "    </tr>\n",
       "    <tr>\n",
       "      <td>2007-09-21</td>\n",
       "      <td>137.0</td>\n",
       "    </tr>\n",
       "    <tr>\n",
       "      <td>2007-09-24</td>\n",
       "      <td>143.0</td>\n",
       "    </tr>\n",
       "    <tr>\n",
       "      <td>2007-09-25</td>\n",
       "      <td>150.0</td>\n",
       "    </tr>\n",
       "  </tbody>\n",
       "</table>\n",
       "</div>"
      ],
      "text/plain": [
       "            CLOSE\n",
       "DATE             \n",
       "2007-09-19  125.0\n",
       "2007-09-20  131.0\n",
       "2007-09-21  137.0\n",
       "2007-09-24  143.0\n",
       "2007-09-25  150.0"
      ]
     },
     "execution_count": 26,
     "metadata": {},
     "output_type": "execute_result"
    }
   ],
   "source": [
    "closePrice =closePrice.set_index('DATE')\n",
    "closePrice.head()"
   ]
  },
  {
   "cell_type": "code",
   "execution_count": 27,
   "metadata": {},
   "outputs": [
    {
     "data": {
      "text/plain": [
       "DatetimeIndex(['2007-09-19', '2007-09-20', '2007-09-21', '2007-09-24',\n",
       "               '2007-09-25', '2007-09-26', '2007-09-27', '2007-09-28',\n",
       "               '2007-10-01', '2007-10-02',\n",
       "               ...\n",
       "               '2013-12-18', '2013-12-19', '2013-12-20', '2013-12-23',\n",
       "               '2013-12-24', '2013-12-25', '2013-12-26', '2013-12-27',\n",
       "               '2013-12-30', '2013-12-31'],\n",
       "              dtype='datetime64[ns]', name='DATE', length=1570, freq=None)"
      ]
     },
     "execution_count": 27,
     "metadata": {},
     "output_type": "execute_result"
    }
   ],
   "source": [
    "closePrice.index"
   ]
  },
  {
   "cell_type": "markdown",
   "metadata": {},
   "source": [
    "It is $NOT$ good. Please, find an appropriate solution for fulfilling missing data after using the above function $\\textbf{asfreq()}$"
   ]
  },
  {
   "cell_type": "markdown",
   "metadata": {},
   "source": [
    "# Optimizing model "
   ]
  },
  {
   "cell_type": "markdown",
   "metadata": {},
   "source": [
    "We are going to apply one of the most commonly used method for time-series forecasting, known as ARIMA, which stands for Autoregressive Integrated Moving Average.\n",
    "\n",
    "ARIMA models are denoted with the notation $ARIMA(p, d, q)$. These three parameters account for seasonality, trend, and noise in data:"
   ]
  },
  {
   "cell_type": "markdown",
   "metadata": {},
   "source": [
    "## Find the Optimal ARIMA Model"
   ]
  },
  {
   "cell_type": "markdown",
   "metadata": {},
   "source": [
    "This step is parameter Selection for our furniture’s sales ARIMA Time Series Model. Our goal here is to use a “grid search” to find the optimal set of parameters that yields the best performance for our model."
   ]
  },
  {
   "cell_type": "markdown",
   "metadata": {},
   "source": [
    "## Setting a set of hyperparameters"
   ]
  },
  {
   "cell_type": "code",
   "execution_count": 41,
   "metadata": {},
   "outputs": [
    {
     "data": {
      "text/plain": [
       "[(0, 0, 0),\n",
       " (0, 0, 1),\n",
       " (0, 0, 2),\n",
       " (0, 1, 0),\n",
       " (0, 1, 1),\n",
       " (0, 1, 2),\n",
       " (0, 2, 0),\n",
       " (0, 2, 1),\n",
       " (0, 2, 2),\n",
       " (1, 0, 0),\n",
       " (1, 0, 1),\n",
       " (1, 0, 2),\n",
       " (1, 1, 0),\n",
       " (1, 1, 1),\n",
       " (1, 1, 2),\n",
       " (1, 2, 0),\n",
       " (1, 2, 1),\n",
       " (1, 2, 2),\n",
       " (2, 0, 0),\n",
       " (2, 0, 1),\n",
       " (2, 0, 2),\n",
       " (2, 1, 0),\n",
       " (2, 1, 1),\n",
       " (2, 1, 2),\n",
       " (2, 2, 0),\n",
       " (2, 2, 1),\n",
       " (2, 2, 2)]"
      ]
     },
     "execution_count": 41,
     "metadata": {},
     "output_type": "execute_result"
    }
   ],
   "source": [
    "p = d = q = range(0, 3)\n",
    "pdq = list(itertools.product(p, d, q))\n",
    "pdq"
   ]
  },
  {
   "cell_type": "code",
   "execution_count": 42,
   "metadata": {},
   "outputs": [
    {
     "name": "stdout",
     "output_type": "stream",
     "text": [
      "\u001b[1mA Number of combinations: 27\n"
     ]
    }
   ],
   "source": [
    "print(Bold + 'A Number of combinations: {}'.format(len(pdq)))"
   ]
  },
  {
   "cell_type": "code",
   "execution_count": 43,
   "metadata": {},
   "outputs": [
    {
     "name": "stdout",
     "output_type": "stream",
     "text": [
      "\u001b[1mExamples of parameter combinations for ARIMA...\u001b[0m\n",
      "ARIMA: (0, 0, 1)\n",
      "ARIMA: (0, 0, 2)\n",
      "ARIMA: (0, 1, 0)\n",
      "ARIMA: (0, 1, 1)\n"
     ]
    }
   ],
   "source": [
    "print(Bold + 'Examples of parameter combinations for ARIMA...' + End)\n",
    "print('ARIMA: {}'.format(pdq[1]))\n",
    "print('ARIMA: {}'.format(pdq[2]))\n",
    "print('ARIMA: {}'.format(pdq[3]))\n",
    "print('ARIMA: {}'.format(pdq[4]))"
   ]
  },
  {
   "cell_type": "markdown",
   "metadata": {},
   "source": [
    "## Finding the Optimal Set of Hyperparameters "
   ]
  },
  {
   "cell_type": "code",
   "execution_count": 44,
   "metadata": {},
   "outputs": [
    {
     "name": "stdout",
     "output_type": "stream",
     "text": [
      "\u001b[1mTraining ARIMA with a Number of Configuration:\u001b[0m\n",
      "ARIMA(0, 0, 0) - AIC:18617.295367639003 - BIC:18622.653561391737 - Log likehood: -9307.647683819501\n",
      "ARIMA(0, 0, 1) - AIC:16500.751416949348 - BIC:16511.466529351168 - Log likehood: -8248.375708474674\n",
      "ARIMA(0, 0, 2) - AIC:14691.641871976279 - BIC:14707.712626703347 - Log likehood: -7342.820935988139\n",
      "ARIMA(0, 1, 0) - AIC:7887.295833504402 - BIC:7892.653389705312 - Log likehood: -3942.647916752201\n",
      "ARIMA(0, 1, 1) - AIC:7842.397791096861 - BIC:7853.111627581573 - Log likehood: -3919.1988955484303\n",
      "ARIMA(0, 1, 2) - AIC:7837.060965130531 - BIC:7853.129804760183 - Log likehood: -3915.5304825652656\n",
      "ARIMA(0, 2, 0) - AIC:8700.918534597122 - BIC:8706.275452839478 - Log likehood: -4349.459267298561\n",
      "ARIMA(0, 2, 1) - AIC:7891.296855355817 - BIC:7902.009415108918 - Log likehood: -3943.6484276779083\n",
      "ARIMA(0, 2, 2) - AIC:7846.313699117887 - BIC:7862.38062242681 - Log likehood: -3920.1568495589436\n",
      "ARIMA(1, 0, 0) - AIC:7896.034613259283 - BIC:7906.751000764749 - Log likehood: -3946.0173066296416\n",
      "ARIMA(1, 0, 1) - AIC:7850.952778714369 - BIC:7867.0254473171 - Log likehood: -3922.4763893571844\n",
      "ARIMA(1, 0, 2) - AIC:7845.44760748906 - BIC:7866.875280458484 - Log likehood: -3918.72380374453\n",
      "ARIMA(1, 1, 0) - AIC:7849.3877481443415 - BIC:7860.102860546162 - Log likehood: -3922.6938740721707\n",
      "ARIMA(1, 1, 1) - AIC:7844.171998695286 - BIC:7860.242753422353 - Log likehood: -3919.085999347643\n",
      "ARIMA(1, 1, 2) - AIC:7837.358105940176 - BIC:7858.783225446379 - Log likehood: -3914.679052970088\n",
      "ARIMA(1, 2, 0) - AIC:8408.781224833616 - BIC:8419.495061318328 - Log likehood: -4202.390612416808\n",
      "ARIMA(1, 2, 1) - AIC:7849.840294647884 - BIC:7865.9091342775355 - Log likehood: -3921.920147323942\n",
      "ARIMA(1, 2, 2) - AIC:7847.357785142884 - BIC:7868.7803495547805 - Log likehood: -3919.678892571442\n",
      "ARIMA(2, 0, 0) - AIC:7849.810042492016 - BIC:7865.882711094747 - Log likehood: -3921.905021246008\n",
      "ARIMA(2, 0, 1) - AIC:7851.806207263269 - BIC:7873.23643206691 - Log likehood: -3921.9031036316346\n",
      "ARIMA(2, 0, 2) - AIC:7849.652816658856 - BIC:7876.437407870636 - Log likehood: -3919.826408329428\n",
      "ARIMA(2, 1, 0) - AIC:7844.1832803732905 - BIC:7860.254035100358 - Log likehood: -3919.0916401866452\n",
      "ARIMA(2, 1, 1) - AIC:7831.797141823202 - BIC:7853.224814792626 - Log likehood: -3911.898570911601\n",
      "ARIMA(2, 1, 2) - AIC:7838.77946854009 - BIC:7865.560867922844 - Log likehood: -3914.389734270045\n",
      "ARIMA(2, 2, 0) - AIC:8260.681782238988 - BIC:8276.75062186864 - Log likehood: -4127.340891119494\n",
      "ARIMA(2, 2, 1) - AIC:7851.837626288603 - BIC:7873.2627457948065 - Log likehood: -3921.9188131443016\n",
      "ARIMA(2, 2, 2) - AIC:7847.386253666546 - BIC:7874.1644591814165 - Log likehood: -3918.693126833273\n",
      "\u001b[1mThe Optimal Choice Suggestions:\u001b[0m\n",
      "The minimum value of Akaike Information Criterion (AIC):7831.797141823202\n",
      "The minimum value of Bayesian Information Criterion (BIC): 7853.111627581573\n",
      "The maximum value of Log likehood: -9307.647683819501\n",
      "\u001b[1mDescending the Values of AIC and BIC:\u001b[0m\n"
     ]
    },
    {
     "data": {
      "text/html": [
       "<div>\n",
       "<style scoped>\n",
       "    .dataframe tbody tr th:only-of-type {\n",
       "        vertical-align: middle;\n",
       "    }\n",
       "\n",
       "    .dataframe tbody tr th {\n",
       "        vertical-align: top;\n",
       "    }\n",
       "\n",
       "    .dataframe thead th {\n",
       "        text-align: right;\n",
       "    }\n",
       "</style>\n",
       "<table border=\"1\" class=\"dataframe\">\n",
       "  <thead>\n",
       "    <tr style=\"text-align: right;\">\n",
       "      <th></th>\n",
       "      <th>Hyperparameters</th>\n",
       "      <th>AIC</th>\n",
       "      <th>BIC</th>\n",
       "      <th>Log likehood</th>\n",
       "    </tr>\n",
       "  </thead>\n",
       "  <tbody>\n",
       "    <tr>\n",
       "      <td>0</td>\n",
       "      <td>(0, 0, 0)</td>\n",
       "      <td>18617.295368</td>\n",
       "      <td>18622.653561</td>\n",
       "      <td>-9307.647684</td>\n",
       "    </tr>\n",
       "    <tr>\n",
       "      <td>1</td>\n",
       "      <td>(0, 0, 1)</td>\n",
       "      <td>16500.751417</td>\n",
       "      <td>16511.466529</td>\n",
       "      <td>-8248.375708</td>\n",
       "    </tr>\n",
       "    <tr>\n",
       "      <td>2</td>\n",
       "      <td>(0, 0, 2)</td>\n",
       "      <td>14691.641872</td>\n",
       "      <td>14707.712627</td>\n",
       "      <td>-7342.820936</td>\n",
       "    </tr>\n",
       "    <tr>\n",
       "      <td>6</td>\n",
       "      <td>(0, 2, 0)</td>\n",
       "      <td>8700.918535</td>\n",
       "      <td>8706.275453</td>\n",
       "      <td>-4349.459267</td>\n",
       "    </tr>\n",
       "    <tr>\n",
       "      <td>15</td>\n",
       "      <td>(1, 2, 0)</td>\n",
       "      <td>8408.781225</td>\n",
       "      <td>8419.495061</td>\n",
       "      <td>-4202.390612</td>\n",
       "    </tr>\n",
       "    <tr>\n",
       "      <td>24</td>\n",
       "      <td>(2, 2, 0)</td>\n",
       "      <td>8260.681782</td>\n",
       "      <td>8276.750622</td>\n",
       "      <td>-4127.340891</td>\n",
       "    </tr>\n",
       "    <tr>\n",
       "      <td>9</td>\n",
       "      <td>(1, 0, 0)</td>\n",
       "      <td>7896.034613</td>\n",
       "      <td>7906.751001</td>\n",
       "      <td>-3946.017307</td>\n",
       "    </tr>\n",
       "    <tr>\n",
       "      <td>7</td>\n",
       "      <td>(0, 2, 1)</td>\n",
       "      <td>7891.296855</td>\n",
       "      <td>7902.009415</td>\n",
       "      <td>-3943.648428</td>\n",
       "    </tr>\n",
       "    <tr>\n",
       "      <td>3</td>\n",
       "      <td>(0, 1, 0)</td>\n",
       "      <td>7887.295834</td>\n",
       "      <td>7892.653390</td>\n",
       "      <td>-3942.647917</td>\n",
       "    </tr>\n",
       "    <tr>\n",
       "      <td>25</td>\n",
       "      <td>(2, 2, 1)</td>\n",
       "      <td>7851.837626</td>\n",
       "      <td>7873.262746</td>\n",
       "      <td>-3921.918813</td>\n",
       "    </tr>\n",
       "    <tr>\n",
       "      <td>19</td>\n",
       "      <td>(2, 0, 1)</td>\n",
       "      <td>7851.806207</td>\n",
       "      <td>7873.236432</td>\n",
       "      <td>-3921.903104</td>\n",
       "    </tr>\n",
       "    <tr>\n",
       "      <td>10</td>\n",
       "      <td>(1, 0, 1)</td>\n",
       "      <td>7850.952779</td>\n",
       "      <td>7867.025447</td>\n",
       "      <td>-3922.476389</td>\n",
       "    </tr>\n",
       "    <tr>\n",
       "      <td>16</td>\n",
       "      <td>(1, 2, 1)</td>\n",
       "      <td>7849.840295</td>\n",
       "      <td>7865.909134</td>\n",
       "      <td>-3921.920147</td>\n",
       "    </tr>\n",
       "    <tr>\n",
       "      <td>18</td>\n",
       "      <td>(2, 0, 0)</td>\n",
       "      <td>7849.810042</td>\n",
       "      <td>7865.882711</td>\n",
       "      <td>-3921.905021</td>\n",
       "    </tr>\n",
       "    <tr>\n",
       "      <td>20</td>\n",
       "      <td>(2, 0, 2)</td>\n",
       "      <td>7849.652817</td>\n",
       "      <td>7876.437408</td>\n",
       "      <td>-3919.826408</td>\n",
       "    </tr>\n",
       "    <tr>\n",
       "      <td>12</td>\n",
       "      <td>(1, 1, 0)</td>\n",
       "      <td>7849.387748</td>\n",
       "      <td>7860.102861</td>\n",
       "      <td>-3922.693874</td>\n",
       "    </tr>\n",
       "    <tr>\n",
       "      <td>26</td>\n",
       "      <td>(2, 2, 2)</td>\n",
       "      <td>7847.386254</td>\n",
       "      <td>7874.164459</td>\n",
       "      <td>-3918.693127</td>\n",
       "    </tr>\n",
       "    <tr>\n",
       "      <td>17</td>\n",
       "      <td>(1, 2, 2)</td>\n",
       "      <td>7847.357785</td>\n",
       "      <td>7868.780350</td>\n",
       "      <td>-3919.678893</td>\n",
       "    </tr>\n",
       "    <tr>\n",
       "      <td>8</td>\n",
       "      <td>(0, 2, 2)</td>\n",
       "      <td>7846.313699</td>\n",
       "      <td>7862.380622</td>\n",
       "      <td>-3920.156850</td>\n",
       "    </tr>\n",
       "    <tr>\n",
       "      <td>11</td>\n",
       "      <td>(1, 0, 2)</td>\n",
       "      <td>7845.447607</td>\n",
       "      <td>7866.875280</td>\n",
       "      <td>-3918.723804</td>\n",
       "    </tr>\n",
       "    <tr>\n",
       "      <td>21</td>\n",
       "      <td>(2, 1, 0)</td>\n",
       "      <td>7844.183280</td>\n",
       "      <td>7860.254035</td>\n",
       "      <td>-3919.091640</td>\n",
       "    </tr>\n",
       "    <tr>\n",
       "      <td>13</td>\n",
       "      <td>(1, 1, 1)</td>\n",
       "      <td>7844.171999</td>\n",
       "      <td>7860.242753</td>\n",
       "      <td>-3919.085999</td>\n",
       "    </tr>\n",
       "    <tr>\n",
       "      <td>4</td>\n",
       "      <td>(0, 1, 1)</td>\n",
       "      <td>7842.397791</td>\n",
       "      <td>7853.111628</td>\n",
       "      <td>-3919.198896</td>\n",
       "    </tr>\n",
       "    <tr>\n",
       "      <td>23</td>\n",
       "      <td>(2, 1, 2)</td>\n",
       "      <td>7838.779469</td>\n",
       "      <td>7865.560868</td>\n",
       "      <td>-3914.389734</td>\n",
       "    </tr>\n",
       "    <tr>\n",
       "      <td>14</td>\n",
       "      <td>(1, 1, 2)</td>\n",
       "      <td>7837.358106</td>\n",
       "      <td>7858.783225</td>\n",
       "      <td>-3914.679053</td>\n",
       "    </tr>\n",
       "    <tr>\n",
       "      <td>5</td>\n",
       "      <td>(0, 1, 2)</td>\n",
       "      <td>7837.060965</td>\n",
       "      <td>7853.129805</td>\n",
       "      <td>-3915.530483</td>\n",
       "    </tr>\n",
       "    <tr>\n",
       "      <td>22</td>\n",
       "      <td>(2, 1, 1)</td>\n",
       "      <td>7831.797142</td>\n",
       "      <td>7853.224815</td>\n",
       "      <td>-3911.898571</td>\n",
       "    </tr>\n",
       "  </tbody>\n",
       "</table>\n",
       "</div>"
      ],
      "text/plain": [
       "   Hyperparameters           AIC           BIC  Log likehood\n",
       "0        (0, 0, 0)  18617.295368  18622.653561  -9307.647684\n",
       "1        (0, 0, 1)  16500.751417  16511.466529  -8248.375708\n",
       "2        (0, 0, 2)  14691.641872  14707.712627  -7342.820936\n",
       "6        (0, 2, 0)   8700.918535   8706.275453  -4349.459267\n",
       "15       (1, 2, 0)   8408.781225   8419.495061  -4202.390612\n",
       "24       (2, 2, 0)   8260.681782   8276.750622  -4127.340891\n",
       "9        (1, 0, 0)   7896.034613   7906.751001  -3946.017307\n",
       "7        (0, 2, 1)   7891.296855   7902.009415  -3943.648428\n",
       "3        (0, 1, 0)   7887.295834   7892.653390  -3942.647917\n",
       "25       (2, 2, 1)   7851.837626   7873.262746  -3921.918813\n",
       "19       (2, 0, 1)   7851.806207   7873.236432  -3921.903104\n",
       "10       (1, 0, 1)   7850.952779   7867.025447  -3922.476389\n",
       "16       (1, 2, 1)   7849.840295   7865.909134  -3921.920147\n",
       "18       (2, 0, 0)   7849.810042   7865.882711  -3921.905021\n",
       "20       (2, 0, 2)   7849.652817   7876.437408  -3919.826408\n",
       "12       (1, 1, 0)   7849.387748   7860.102861  -3922.693874\n",
       "26       (2, 2, 2)   7847.386254   7874.164459  -3918.693127\n",
       "17       (1, 2, 2)   7847.357785   7868.780350  -3919.678893\n",
       "8        (0, 2, 2)   7846.313699   7862.380622  -3920.156850\n",
       "11       (1, 0, 2)   7845.447607   7866.875280  -3918.723804\n",
       "21       (2, 1, 0)   7844.183280   7860.254035  -3919.091640\n",
       "13       (1, 1, 1)   7844.171999   7860.242753  -3919.085999\n",
       "4        (0, 1, 1)   7842.397791   7853.111628  -3919.198896\n",
       "23       (2, 1, 2)   7838.779469   7865.560868  -3914.389734\n",
       "14       (1, 1, 2)   7837.358106   7858.783225  -3914.679053\n",
       "5        (0, 1, 2)   7837.060965   7853.129805  -3915.530483\n",
       "22       (2, 1, 1)   7831.797142   7853.224815  -3911.898571"
      ]
     },
     "execution_count": 44,
     "metadata": {},
     "output_type": "execute_result"
    }
   ],
   "source": [
    "AIC=list()\n",
    "BIC=list()\n",
    "para=list()\n",
    "Lihood=list()\n",
    "print(Bold + 'Training ARIMA with a Number of Configuration:'+ End)\n",
    "for param in pdq:\n",
    "    mod=sm.tsa.statespace.SARIMAX(closePrice,order=param,seasonal_order=(0, 0, 0, 0), \n",
    "                                               enforce_stationarity=False, enforce_invertibility=False)\n",
    "    results= mod.fit()\n",
    "    para.append(param)\n",
    "    AIC.append(results.aic)\n",
    "    BIC.append(results.bic)\n",
    "    Lihood.append(results.llf)\n",
    "    print('ARIMA{} - AIC:{} - BIC:{} - Log likehood: {}'.format(param,results.aic, \n",
    "                                                                results.bic,results.llf))\n",
    "    \n",
    "print(Bold +'The Optimal Choice Suggestions:'+End)\n",
    "print('The minimum value of Akaike Information Criterion (AIC):{}'.format(min(AIC)))\n",
    "print('The minimum value of Bayesian Information Criterion (BIC): {}'.format(min(BIC)))\n",
    "print('The maximum value of Log likehood: {}'.format(min(Lihood)))\n",
    "print(Bold + 'Descending the Values of AIC and BIC:'+End)\n",
    "ModSelect=pd.DataFrame({'Hyperparameters':para,'AIC':AIC,'BIC':BIC, 'Log likehood':Lihood}).sort_values(by=['AIC','BIC','Log likehood'],ascending=False)\n",
    "ModSelect\n"
   ]
  },
  {
   "cell_type": "markdown",
   "metadata": {},
   "source": [
    "# Fitting the optimal SARIMA model"
   ]
  },
  {
   "cell_type": "code",
   "execution_count": 46,
   "metadata": {},
   "outputs": [
    {
     "name": "stdout",
     "output_type": "stream",
     "text": [
      "\u001b[1mThe estimated ARIMA(2,1,1) Model\u001b[0m\n",
      "                           Statespace Model Results                           \n",
      "==============================================================================\n",
      "Dep. Variable:                  CLOSE   No. Observations:                 1570\n",
      "Model:               SARIMAX(2, 1, 1)   Log Likelihood               -3911.899\n",
      "Date:                Thu, 20 Feb 2020   AIC                           7831.797\n",
      "Time:                        21:35:53   BIC                           7853.225\n",
      "Sample:                             0   HQIC                          7839.762\n",
      "                               - 1570                                         \n",
      "Covariance Type:                  opg                                         \n",
      "==============================================================================\n",
      "                 coef    std err          z      P>|z|      [0.025      0.975]\n",
      "------------------------------------------------------------------------------\n",
      "ar.L1          1.0039      0.039     25.897      0.000       0.928       1.080\n",
      "ar.L2         -0.1366      0.019     -7.047      0.000      -0.175      -0.099\n",
      "ma.L1         -0.8584      0.035    -24.231      0.000      -0.928      -0.789\n",
      "sigma2         8.6202      0.058    149.687      0.000       8.507       8.733\n",
      "===================================================================================\n",
      "Ljung-Box (Q):                       27.35   Jarque-Bera (JB):            570468.06\n",
      "Prob(Q):                              0.94   Prob(JB):                         0.00\n",
      "Heteroskedasticity (H):               0.36   Skew:                            -6.18\n",
      "Prob(H) (two-sided):                  0.00   Kurtosis:                        95.65\n",
      "===================================================================================\n",
      "\n",
      "Warnings:\n",
      "[1] Covariance matrix calculated using the outer product of gradients (complex-step).\n"
     ]
    }
   ],
   "source": [
    "mod = sm.tsa.statespace.SARIMAX(closePrice, order=(2, 1, 1),enforce_stationarity=False,\n",
    "                                enforce_invertibility=False)\n",
    "\n",
    "results = mod.fit()\n",
    "\n",
    "print(Bold + 'The estimated ARIMA(2,1,1) Model'+ End)\n",
    "#print(results.summary().tables[1])\n",
    "print(results.summary())"
   ]
  },
  {
   "cell_type": "markdown",
   "metadata": {},
   "source": [
    "# Performing Model Diagnostics"
   ]
  },
  {
   "cell_type": "markdown",
   "metadata": {},
   "source": [
    "We should always run model diagnostics to investigate any unusual behavior."
   ]
  },
  {
   "cell_type": "code",
   "execution_count": 49,
   "metadata": {},
   "outputs": [
    {
     "data": {
      "image/png": "[encoded data removed]",
      "text/plain": [
       "<Figure size 1224x1080 with 4 Axes>"
      ]
     },
     "metadata": {
      "needs_background": "light"
     },
     "output_type": "display_data"
    }
   ],
   "source": [
    "results.plot_diagnostics(figsize=(17,15))\n",
    "plt.show()"
   ]
  },
  {
   "cell_type": "markdown",
   "metadata": {},
   "source": [
    "Our primary concern is to ensure that the residuals of our model are $\\textbf{uncorrelated}$ and $\\textbf{normally distributed with zero-mean}$. If the seasonal ARIMA model does not satisfy these properties, it should be further improved.\n",
    "\n",
    "In this case, our model diagnostics suggests that the model residuals are not normally distributed based on the following:\n",
    "\n",
    "1. The residuals over time (top left plot) seem to display an obvious seasonality (downward trend) and moight not a obvious white noise process.\n",
    "\n",
    "\n",
    "2. In the top right plot, we see that the red KDE line is far from the N(0,1) line (where N(0,1)) is the standard notation for a normal distribution with mean 0 and standard deviation of 1). This is a good indication that the residuals are not normally distributed. \n",
    "\n",
    "3. The qq-plot on the bottom left shows that the ordered distribution of residuals (blue dots) do not follow the linear trend of the samples taken from a standard normal distribution with N(0, 1). Again, this is a strong indication that the residuals are not normally distributed.\n",
    "\n",
    "see more $\\text{Q-Q Plot}$ at https://en.wikipedia.org/wiki/Q%E2%80%93Q_plot\n",
    "\n",
    "4. The autocorrelation (i.e. correlogram) plot on the bottom right, which shows that the time series residuals have low correlation with lagged versions of itself, but several espisodes have high correlation with their own lagged values.\n",
    "\n",
    "Those observations lead us to conclude that our model produces a satisfactory fit that could help us understand our time series data and forecast future values.\n",
    "\n",
    "Although we have a satisfactory fit, some parameters of our seasonal ARIMA model could be changed to improve our model fit. For example, our grid search only considered a restricted set of parameter combinations, so we may find better models if we widened the grid search.\n",
    "\n",
    "It is not good enough since our model diagnostics suggests that the model residuals are not near normally distributed."
   ]
  }
 ],
 "metadata": {
  "kernelspec": {
   "display_name": "Python 3",
   "language": "python",
   "name": "python3"
  },
  "language_info": {
   "codemirror_mode": {
    "name": "ipython",
    "version": 3
   },
   "file_extension": ".py",
   "mimetype": "text/x-python",
   "name": "python",
   "nbconvert_exporter": "python",
   "pygments_lexer": "ipython3",
   "version": "3.6.9"
  },
  "toc": {
   "base_numbering": 1,
   "nav_menu": {},
   "number_sections": true,
   "sideBar": true,
   "skip_h1_title": false,
   "title_cell": "Table of Contents",
   "title_sidebar": "Contents",
   "toc_cell": false,
   "toc_position": {},
   "toc_section_display": true,
   "toc_window_display": false
  }
 },
 "nbformat": 4,
 "nbformat_minor": 2
}
